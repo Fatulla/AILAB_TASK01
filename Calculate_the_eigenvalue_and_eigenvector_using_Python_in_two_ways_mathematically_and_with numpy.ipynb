{
  "nbformat": 4,
  "nbformat_minor": 0,
  "metadata": {
    "colab": {
      "provenance": [],
      "authorship_tag": "ABX9TyO9LmwmicGpASEwQY68nfgc",
      "include_colab_link": true
    },
    "kernelspec": {
      "name": "python3",
      "display_name": "Python 3"
    },
    "language_info": {
      "name": "python"
    }
  },
  "cells": [
    {
      "cell_type": "markdown",
      "metadata": {
        "id": "view-in-github",
        "colab_type": "text"
      },
      "source": [
        "<a href=\"https://colab.research.google.com/github/Fatulla/AILAB_TASK01/blob/main/Calculate_the_eigenvalue_and_eigenvector_using_Python_in_two_ways_mathematically_and_with%20numpy.ipynb\" target=\"_parent\"><img src=\"https://colab.research.google.com/assets/colab-badge.svg\" alt=\"Open In Colab\"/></a>"
      ]
    },
    {
      "cell_type": "code",
      "source": [
        "import math\n",
        "\n",
        "def get_valid_number(prompt):\n",
        "    while True:\n",
        "        try:\n",
        "            return float(input(prompt))\n",
        "        except ValueError:\n",
        "            print(\"Xəta: Düzgün ədəd daxil edin!\")\n",
        "\n",
        "def get_matrix():\n",
        "    print(\"2x2 matris elementlərini daxil edin:\")\n",
        "    a = get_valid_number(\"a11: \")\n",
        "    b = get_valid_number(\"a12: \")\n",
        "    c = get_valid_number(\"a21: \")\n",
        "    d = get_valid_number(\"a22: \")\n",
        "    return [[a, b], [c, d]]\n",
        "\n",
        "def calculate_eigen(matrix):\n",
        "    a, b = matrix[0]\n",
        "    c, d = matrix[1]\n",
        "\n",
        "    trace = a + d\n",
        "    determinant = a * d - b * c\n",
        "\n",
        "    lambda1 = (trace + math.sqrt(trace**2 - 4 * determinant)) / 2\n",
        "    lambda2 = (trace - math.sqrt(trace**2 - 4 * determinant)) / 2\n",
        "\n",
        "    eigenvalues = [lambda1, lambda2]\n",
        "\n",
        "    eigenvectors = []\n",
        "    for eigenvalue in eigenvalues:\n",
        "        if b != 0:\n",
        "            eigenvector = [1, (eigenvalue - a) / b]\n",
        "        elif c != 0:\n",
        "            eigenvector = [(eigenvalue - d) / c, 1]\n",
        "        else:\n",
        "            eigenvector = [1, 0]\n",
        "        eigenvectors.append(eigenvector)\n",
        "\n",
        "    return eigenvalues, eigenvectors\n",
        "\n",
        "def main():\n",
        "    matrix = get_matrix()\n",
        "    eigenvalues, eigenvectors = calculate_eigen(matrix)\n",
        "\n",
        "    print(\"Eigenvalues:\")\n",
        "    print(eigenvalues)\n",
        "    print(\"Eigenvectors:\")\n",
        "    for vec in eigenvectors:\n",
        "        print(vec)\n",
        "\n",
        "if __name__ == \"__main__\":\n",
        "    main()\n",
        "\n"
      ],
      "metadata": {
        "colab": {
          "base_uri": "https://localhost:8080/"
        },
        "id": "ZiucFMZhsKZN",
        "outputId": "cd5cba5b-bc9e-433f-f60c-719fd64446e2"
      },
      "execution_count": 19,
      "outputs": [
        {
          "output_type": "stream",
          "name": "stdout",
          "text": [
            "2x2 matris elementlərini daxil edin:\n",
            "a11: 2\n",
            "a12: 3\n",
            "a21: 4\n",
            "a22: 5\n",
            "Eigenvalues:\n",
            "[7.274917217635375, -0.2749172176353749]\n",
            "Eigenvectors:\n",
            "[1, 1.7583057392117916]\n",
            "[1, -0.7583057392117917]\n"
          ]
        }
      ]
    },
    {
      "cell_type": "code",
      "source": [
        "import numpy as np\n",
        "def get_matrix():\n",
        "    print(\"2x2 matris elementlərini daxil edin:\")\n",
        "    a = float(input(\"a11: \"))\n",
        "    b = float(input(\"a12: \"))\n",
        "    c = float(input(\"a21: \"))\n",
        "    d = float(input(\"a22: \"))\n",
        "    return np.array([[a, b], [c, d]])\n",
        "\n",
        "def main():\n",
        "    matrix = get_matrix()\n",
        "    eigenvalues, eigenvectors = np.linalg.eig(matrix)\n",
        "\n",
        "    print(\"Eigenvalues:\")\n",
        "    print(eigenvalues)\n",
        "    print(\"Eigenvectors:\")\n",
        "    print(eigenvectors)\n",
        "\n",
        "if __name__ == \"__main__\":\n",
        "    main()\n",
        "\n",
        "4"
      ],
      "metadata": {
        "colab": {
          "base_uri": "https://localhost:8080/"
        },
        "id": "ahhAqlf0Q4i8",
        "outputId": "156a1ea8-ce51-4678-a700-f1ad210d81e1"
      },
      "execution_count": 23,
      "outputs": [
        {
          "output_type": "stream",
          "name": "stdout",
          "text": [
            "2x2 matris elementlərini daxil edin:\n",
            "a11: 2\n",
            "a12: 3\n",
            "a21: 4\n",
            "a22: 5\n",
            "Eigenvalues:\n",
            "[-0.27491722  7.27491722]\n",
            "Eigenvectors:\n",
            "[[-0.79681209 -0.49436913]\n",
            " [ 0.60422718 -0.86925207]]\n"
          ]
        },
        {
          "output_type": "execute_result",
          "data": {
            "text/plain": [
              "4"
            ]
          },
          "metadata": {},
          "execution_count": 23
        }
      ]
    }
  ]
}